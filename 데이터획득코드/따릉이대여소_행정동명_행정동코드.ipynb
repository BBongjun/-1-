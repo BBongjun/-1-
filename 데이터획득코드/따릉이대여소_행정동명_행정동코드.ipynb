{
 "cells": [
  {
   "cell_type": "markdown",
   "id": "cde0a9ed",
   "metadata": {},
   "source": [
    "# 대여소 좌표를 행정동으로 변환"
   ]
  },
  {
   "cell_type": "code",
   "execution_count": 5,
   "id": "00cdbf3a",
   "metadata": {},
   "outputs": [
    {
     "name": "stderr",
     "output_type": "stream",
     "text": [
      "C:\\Users\\choib\\anaconda3\\lib\\site-packages\\pandas\\core\\indexing.py:1700: SettingWithCopyWarning: \n",
      "A value is trying to be set on a copy of a slice from a DataFrame.\n",
      "Try using .loc[row_indexer,col_indexer] = value instead\n",
      "\n",
      "See the caveats in the documentation: https://pandas.pydata.org/pandas-docs/stable/user_guide/indexing.html#returning-a-view-versus-a-copy\n",
      "  self._setitem_single_column(loc, v, pi)\n"
     ]
    },
    {
     "name": "stdout",
     "output_type": "stream",
     "text": [
      "0 번째 경위도 좌표계에 대한 정보 불러오는 중...\n",
      "100 번째 경위도 좌표계에 대한 정보 불러오는 중...\n",
      "200 번째 경위도 좌표계에 대한 정보 불러오는 중...\n",
      "300 번째 경위도 좌표계에 대한 정보 불러오는 중...\n",
      "400 번째 경위도 좌표계에 대한 정보 불러오는 중...\n",
      "500 번째 경위도 좌표계에 대한 정보 불러오는 중...\n",
      "600 번째 경위도 좌표계에 대한 정보 불러오는 중...\n",
      "700 번째 경위도 좌표계에 대한 정보 불러오는 중...\n",
      "800 번째 경위도 좌표계에 대한 정보 불러오는 중...\n",
      "900 번째 경위도 좌표계에 대한 정보 불러오는 중...\n",
      "1000 번째 경위도 좌표계에 대한 정보 불러오는 중...\n",
      "1100 번째 경위도 좌표계에 대한 정보 불러오는 중...\n",
      "1200 번째 경위도 좌표계에 대한 정보 불러오는 중...\n",
      "1300 번째 경위도 좌표계에 대한 정보 불러오는 중...\n",
      "1400 번째 경위도 좌표계에 대한 정보 불러오는 중...\n",
      "1500 번째 경위도 좌표계에 대한 정보 불러오는 중...\n",
      "1600 번째 경위도 좌표계에 대한 정보 불러오는 중...\n",
      "1700 번째 경위도 좌표계에 대한 정보 불러오는 중...\n",
      "1800 번째 경위도 좌표계에 대한 정보 불러오는 중...\n",
      "1900 번째 경위도 좌표계에 대한 정보 불러오는 중...\n",
      "2000 번째 경위도 좌표계에 대한 정보 불러오는 중...\n",
      "2100 번째 경위도 좌표계에 대한 정보 불러오는 중...\n",
      "2200 번째 경위도 좌표계에 대한 정보 불러오는 중...\n",
      "2300 번째 경위도 좌표계에 대한 정보 불러오는 중...\n",
      "2400 번째 경위도 좌표계에 대한 정보 불러오는 중...\n",
      "2500 번째 경위도 좌표계에 대한 정보 불러오는 중...\n"
     ]
    }
   ],
   "source": [
    "import pandas as pd\n",
    "import requests \n",
    "import sys\n",
    "import json\n",
    "import datetime \n",
    "\n",
    "\n",
    "\n",
    "def json_request(url='', encoding='utf-8', success=None, error=lambda e: print('%s : %s' % (e, datetime.now()), file=sys.stderr)):\n",
    "    headers = {'Authorization': 'KakaoAK {}'.format(APP_KEY)}\n",
    "    resp = requests.get(url, headers=headers)\n",
    "    # print('%s : success for request [%s]' % (datetime.now(), url))\n",
    "    return resp.text\n",
    "\n",
    "\n",
    "def reverse_geocode(longitude, latitude):\n",
    "    # 파라미터 최적화하여 url 생성\n",
    "    url = '%s?x=%s&y=%s' %(URL, longitude, latitude)\n",
    "    # json request\n",
    "    try:\n",
    "        # print('try')\n",
    "        json_req = json_request(url=url)\n",
    "        json_data = json.loads(json_req)\n",
    "        json_doc = json_data.get('documents')[1]\n",
    "        json_name = json_doc.get('region_3depth_name')\n",
    "        json_code = json_doc.get('code')\n",
    "    except:\n",
    "        # print('nan')\n",
    "        json_name = 'NaN'\n",
    "        json_code = 'NaN'\n",
    "    return json_name, json_code\n",
    "\n",
    " \n",
    "def get_address(x,y):\n",
    "    address = []        \n",
    "    json_name, json_code = reverse_geocode(x, y) \n",
    "    address.append(json_name)\n",
    "    return address # 전처리 함수에서 주소 리스트 받아서 데이터프레임에 추가\n",
    "\n",
    "\n",
    "def get_code(x,y):\n",
    "    code = []        \n",
    "    json_name, json_code = reverse_geocode(x, y) \n",
    "    code.append(json_code)\n",
    "    return code # 전처리 함수에서 행정구역코드 리스트 받아서 데이터프레임에 추가\n",
    "    \n",
    "\n",
    "\n",
    "APP_KEY = '본인 api key' \n",
    "URL = 'https://dapi.kakao.com/v2/local/geo/coord2regioncode.json'\n",
    "\n",
    "df_all = pd.read_csv('공공자전거_대여소_정보.csv') \n",
    "df = df_all[['대여소번호', '경도', '위도']] # 기관ID, 병원경도, 병원위도 열만 추출 (도로명주소는 일부러 날림)\n",
    "\n",
    "\n",
    "for i in range(len(df)): \n",
    "    x_crd = float(df.loc[i, ['경도']])\n",
    "    y_crd = float(df.loc[i, ['위도']])\n",
    "    address = get_address(x_crd, y_crd)\n",
    "    code = get_code(x_crd, y_crd)\n",
    "    df.loc[i, ['행정동명']] = address\n",
    "    \n",
    "    if i%100 == 0:\n",
    "        print('{} 번째 경위도 좌표계에 대한 정보 불러오는 중...'.format(i))\n",
    "    "
   ]
  },
  {
   "cell_type": "code",
   "execution_count": 8,
   "id": "f19d1cf7",
   "metadata": {},
   "outputs": [],
   "source": [
    "#열 삭제\n",
    "del df['경도']\n",
    "del df['위도']\n",
    "\n",
    "#행정동_코드 에서 주소에서 '리'에 대한 데이터 삭제\n",
    "for i in range(len(df)):\n",
    "    df['행정동_코드'][i]=df['행정동_코드'][i][0:8]\n",
    "\n",
    "#csv만들기    \n",
    "df.to_csv(\"따릉이_행정동.csv\",mode=\"w\",encoding='utf-8')"
   ]
  }
 ],
 "metadata": {
  "kernelspec": {
   "display_name": "Python 3 (ipykernel)",
   "language": "python",
   "name": "python3"
  },
  "language_info": {
   "codemirror_mode": {
    "name": "ipython",
    "version": 3
   },
   "file_extension": ".py",
   "mimetype": "text/x-python",
   "name": "python",
   "nbconvert_exporter": "python",
   "pygments_lexer": "ipython3",
   "version": "3.9.12"
  }
 },
 "nbformat": 4,
 "nbformat_minor": 5
}
